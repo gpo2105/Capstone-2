{
 "cells": [
  {
   "cell_type": "markdown",
   "id": "d5854d59",
   "metadata": {},
   "source": [
    "# 1-Introduction"
   ]
  },
  {
   "cell_type": "code",
   "execution_count": null,
   "id": "08b2f20a",
   "metadata": {
    "vscode": {
     "languageId": "plaintext"
    }
   },
   "outputs": [],
   "source": []
  },
  {
   "cell_type": "markdown",
   "id": "38ce9e81",
   "metadata": {},
   "source": [
    "# 2-Library, Functions & Data Upload"
   ]
  },
  {
   "cell_type": "code",
   "execution_count": null,
   "id": "778afa3e",
   "metadata": {
    "vscode": {
     "languageId": "plaintext"
    }
   },
   "outputs": [],
   "source": []
  },
  {
   "cell_type": "markdown",
   "id": "970c871d",
   "metadata": {},
   "source": [
    "# 3-Basic EDA"
   ]
  },
  {
   "cell_type": "code",
   "execution_count": null,
   "id": "1d7588b7",
   "metadata": {
    "vscode": {
     "languageId": "plaintext"
    }
   },
   "outputs": [],
   "source": []
  },
  {
   "cell_type": "markdown",
   "id": "f2ecf205",
   "metadata": {},
   "source": [
    "# 4-Feature Engineering/Wrangling"
   ]
  },
  {
   "cell_type": "code",
   "execution_count": null,
   "id": "bbefe51d",
   "metadata": {
    "vscode": {
     "languageId": "plaintext"
    }
   },
   "outputs": [],
   "source": []
  },
  {
   "cell_type": "markdown",
   "id": "db1f3bc7",
   "metadata": {},
   "source": [
    "# 5-Full EDA"
   ]
  },
  {
   "cell_type": "code",
   "execution_count": null,
   "id": "e2eb1902",
   "metadata": {
    "vscode": {
     "languageId": "plaintext"
    }
   },
   "outputs": [],
   "source": []
  },
  {
   "cell_type": "markdown",
   "id": "fc86cb20",
   "metadata": {},
   "source": [
    "# 6-Modeling & Analysis"
   ]
  },
  {
   "cell_type": "markdown",
   "id": "61293cfe",
   "metadata": {},
   "source": [
    "## Basic Regression"
   ]
  },
  {
   "cell_type": "code",
   "execution_count": null,
   "id": "40475b02",
   "metadata": {
    "vscode": {
     "languageId": "plaintext"
    }
   },
   "outputs": [],
   "source": []
  },
  {
   "cell_type": "markdown",
   "id": "c1fb2fbd",
   "metadata": {},
   "source": [
    "## Clustering"
   ]
  },
  {
   "cell_type": "code",
   "execution_count": null,
   "id": "0640f1a7",
   "metadata": {
    "vscode": {
     "languageId": "plaintext"
    }
   },
   "outputs": [],
   "source": []
  },
  {
   "cell_type": "markdown",
   "id": "ad558a2c",
   "metadata": {},
   "source": [
    "## Geospatial Deep Learning"
   ]
  },
  {
   "cell_type": "code",
   "execution_count": null,
   "id": "2d76884e",
   "metadata": {
    "vscode": {
     "languageId": "plaintext"
    }
   },
   "outputs": [],
   "source": []
  },
  {
   "cell_type": "markdown",
   "id": "acfcdbe9",
   "metadata": {},
   "source": [
    "# 7-Conclusions"
   ]
  },
  {
   "cell_type": "markdown",
   "id": "cf060347",
   "metadata": {},
   "source": []
  },
  {
   "cell_type": "markdown",
   "id": "2c41fa76",
   "metadata": {},
   "source": [
    "## Research & Resources"
   ]
  },
  {
   "cell_type": "markdown",
   "id": "b7bb957a",
   "metadata": {},
   "source": []
  }
 ],
 "metadata": {
  "language_info": {
   "name": "python"
  }
 },
 "nbformat": 4,
 "nbformat_minor": 5
}
